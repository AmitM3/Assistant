{
 "cells": [
  {
   "cell_type": "code",
   "execution_count": 1,
   "metadata": {},
   "outputs": [
    {
     "name": "stdout",
     "output_type": "stream",
     "text": [
      "{'stationId': 178, 'data': [{'datetime': '2024-03-12T15:00:00+02:00', 'channels': [{'id': 1, 'name': 'Rain', 'alias': None, 'value': 0.0, 'status': 1, 'valid': True, 'description': None}, {'id': 2, 'name': 'WSmax', 'alias': None, 'value': 2.5, 'status': 1, 'valid': True, 'description': None}, {'id': 3, 'name': 'WDmax', 'alias': None, 'value': 336.0, 'status': 1, 'valid': True, 'description': None}, {'id': 4, 'name': 'WS', 'alias': None, 'value': 1.8, 'status': 1, 'valid': True, 'description': None}, {'id': 5, 'name': 'WD', 'alias': None, 'value': 330.0, 'status': 1, 'valid': True, 'description': None}, {'id': 6, 'name': 'STDwd', 'alias': None, 'value': 9.4, 'status': 1, 'valid': True, 'description': None}, {'id': 7, 'name': 'TD', 'alias': None, 'value': 23.2, 'status': 1, 'valid': True, 'description': None}, {'id': 8, 'name': 'RH', 'alias': None, 'value': 66.0, 'status': 1, 'valid': True, 'description': None}, {'id': 9, 'name': 'TDmax', 'alias': None, 'value': 23.4, 'status': 1, 'valid': True, 'description': None}, {'id': 10, 'name': 'TDmin', 'alias': None, 'value': 23.0, 'status': 1, 'valid': True, 'description': None}, {'id': 11, 'name': 'WS1mm', 'alias': None, 'value': 2.2, 'status': 1, 'valid': True, 'description': None}, {'id': 12, 'name': 'Ws10mm', 'alias': None, 'value': 2.1, 'status': 2, 'valid': False, 'description': None}, {'id': 13, 'name': 'Time', 'alias': None, 'value': 1457.0, 'status': 2, 'valid': False, 'description': None}]}]}\n"
     ]
    }
   ],
   "source": [
    "import json\n",
    "import requests  \n",
    "import pandas as pd\n",
    "\n",
    "url = 'https://api.ims.gov.il/v1/envista/stations/178'\n",
    "url = 'https://api.ims.gov.il/v1/envista/stations/178/data/daily'\n",
    "url = 'https://api.ims.gov.il/v1/envista/stations/178/data/latest'\n",
    "headers = {'Authorization': 'ApiToken f058958a-d8bd-47cc-95d7-7ecf98610e47' }  \n",
    "response = requests.request(\"GET\", url, headers=headers) \n",
    "data= json.loads(response.text.encode('utf8')) \n",
    "print (data)"
   ]
  },
  {
   "cell_type": "code",
   "execution_count": 2,
   "metadata": {},
   "outputs": [
    {
     "name": "stdout",
     "output_type": "stream",
     "text": [
      "<class 'dict'>\n"
     ]
    },
    {
     "data": {
      "text/html": [
       "<div>\n",
       "<style scoped>\n",
       "    .dataframe tbody tr th:only-of-type {\n",
       "        vertical-align: middle;\n",
       "    }\n",
       "\n",
       "    .dataframe tbody tr th {\n",
       "        vertical-align: top;\n",
       "    }\n",
       "\n",
       "    .dataframe thead th {\n",
       "        text-align: right;\n",
       "    }\n",
       "</style>\n",
       "<table border=\"1\" class=\"dataframe\">\n",
       "  <thead>\n",
       "    <tr style=\"text-align: right;\">\n",
       "      <th></th>\n",
       "      <th>datetime</th>\n",
       "      <th>channels</th>\n",
       "    </tr>\n",
       "  </thead>\n",
       "  <tbody>\n",
       "    <tr>\n",
       "      <th>0</th>\n",
       "      <td>2024-03-12T15:00:00+02:00</td>\n",
       "      <td>[{'id': 1, 'name': 'Rain', 'alias': None, 'val...</td>\n",
       "    </tr>\n",
       "  </tbody>\n",
       "</table>\n",
       "</div>"
      ],
      "text/plain": [
       "                    datetime  \\\n",
       "0  2024-03-12T15:00:00+02:00   \n",
       "\n",
       "                                            channels  \n",
       "0  [{'id': 1, 'name': 'Rain', 'alias': None, 'val...  "
      ]
     },
     "execution_count": 2,
     "metadata": {},
     "output_type": "execute_result"
    }
   ],
   "source": [
    "# Initial parse of the data\n",
    "df = pd.DataFrame.from_dict(data['data'])\n",
    "df"
   ]
  },
  {
   "cell_type": "code",
   "execution_count": 3,
   "metadata": {},
   "outputs": [
    {
     "data": {
      "text/html": [
       "<div>\n",
       "<style scoped>\n",
       "    .dataframe tbody tr th:only-of-type {\n",
       "        vertical-align: middle;\n",
       "    }\n",
       "\n",
       "    .dataframe tbody tr th {\n",
       "        vertical-align: top;\n",
       "    }\n",
       "\n",
       "    .dataframe thead th {\n",
       "        text-align: right;\n",
       "    }\n",
       "</style>\n",
       "<table border=\"1\" class=\"dataframe\">\n",
       "  <thead>\n",
       "    <tr style=\"text-align: right;\">\n",
       "      <th></th>\n",
       "      <th>id</th>\n",
       "      <th>name</th>\n",
       "      <th>alias</th>\n",
       "      <th>value</th>\n",
       "      <th>status</th>\n",
       "      <th>valid</th>\n",
       "      <th>description</th>\n",
       "    </tr>\n",
       "  </thead>\n",
       "  <tbody>\n",
       "    <tr>\n",
       "      <th>0</th>\n",
       "      <td>1</td>\n",
       "      <td>Rain</td>\n",
       "      <td>None</td>\n",
       "      <td>0.0</td>\n",
       "      <td>1</td>\n",
       "      <td>True</td>\n",
       "      <td>None</td>\n",
       "    </tr>\n",
       "    <tr>\n",
       "      <th>1</th>\n",
       "      <td>2</td>\n",
       "      <td>WSmax</td>\n",
       "      <td>None</td>\n",
       "      <td>2.5</td>\n",
       "      <td>1</td>\n",
       "      <td>True</td>\n",
       "      <td>None</td>\n",
       "    </tr>\n",
       "    <tr>\n",
       "      <th>2</th>\n",
       "      <td>3</td>\n",
       "      <td>WDmax</td>\n",
       "      <td>None</td>\n",
       "      <td>336.0</td>\n",
       "      <td>1</td>\n",
       "      <td>True</td>\n",
       "      <td>None</td>\n",
       "    </tr>\n",
       "    <tr>\n",
       "      <th>3</th>\n",
       "      <td>4</td>\n",
       "      <td>WS</td>\n",
       "      <td>None</td>\n",
       "      <td>1.8</td>\n",
       "      <td>1</td>\n",
       "      <td>True</td>\n",
       "      <td>None</td>\n",
       "    </tr>\n",
       "    <tr>\n",
       "      <th>4</th>\n",
       "      <td>5</td>\n",
       "      <td>WD</td>\n",
       "      <td>None</td>\n",
       "      <td>330.0</td>\n",
       "      <td>1</td>\n",
       "      <td>True</td>\n",
       "      <td>None</td>\n",
       "    </tr>\n",
       "    <tr>\n",
       "      <th>5</th>\n",
       "      <td>6</td>\n",
       "      <td>STDwd</td>\n",
       "      <td>None</td>\n",
       "      <td>9.4</td>\n",
       "      <td>1</td>\n",
       "      <td>True</td>\n",
       "      <td>None</td>\n",
       "    </tr>\n",
       "    <tr>\n",
       "      <th>6</th>\n",
       "      <td>7</td>\n",
       "      <td>TD</td>\n",
       "      <td>None</td>\n",
       "      <td>23.2</td>\n",
       "      <td>1</td>\n",
       "      <td>True</td>\n",
       "      <td>None</td>\n",
       "    </tr>\n",
       "    <tr>\n",
       "      <th>7</th>\n",
       "      <td>8</td>\n",
       "      <td>RH</td>\n",
       "      <td>None</td>\n",
       "      <td>66.0</td>\n",
       "      <td>1</td>\n",
       "      <td>True</td>\n",
       "      <td>None</td>\n",
       "    </tr>\n",
       "    <tr>\n",
       "      <th>8</th>\n",
       "      <td>9</td>\n",
       "      <td>TDmax</td>\n",
       "      <td>None</td>\n",
       "      <td>23.4</td>\n",
       "      <td>1</td>\n",
       "      <td>True</td>\n",
       "      <td>None</td>\n",
       "    </tr>\n",
       "    <tr>\n",
       "      <th>9</th>\n",
       "      <td>10</td>\n",
       "      <td>TDmin</td>\n",
       "      <td>None</td>\n",
       "      <td>23.0</td>\n",
       "      <td>1</td>\n",
       "      <td>True</td>\n",
       "      <td>None</td>\n",
       "    </tr>\n",
       "    <tr>\n",
       "      <th>10</th>\n",
       "      <td>11</td>\n",
       "      <td>WS1mm</td>\n",
       "      <td>None</td>\n",
       "      <td>2.2</td>\n",
       "      <td>1</td>\n",
       "      <td>True</td>\n",
       "      <td>None</td>\n",
       "    </tr>\n",
       "  </tbody>\n",
       "</table>\n",
       "</div>"
      ],
      "text/plain": [
       "    id   name alias  value  status  valid description\n",
       "0    1   Rain  None    0.0       1   True        None\n",
       "1    2  WSmax  None    2.5       1   True        None\n",
       "2    3  WDmax  None  336.0       1   True        None\n",
       "3    4     WS  None    1.8       1   True        None\n",
       "4    5     WD  None  330.0       1   True        None\n",
       "5    6  STDwd  None    9.4       1   True        None\n",
       "6    7     TD  None   23.2       1   True        None\n",
       "7    8     RH  None   66.0       1   True        None\n",
       "8    9  TDmax  None   23.4       1   True        None\n",
       "9   10  TDmin  None   23.0       1   True        None\n",
       "10  11  WS1mm  None    2.2       1   True        None"
      ]
     },
     "execution_count": 3,
     "metadata": {},
     "output_type": "execute_result"
    }
   ],
   "source": [
    "# Exploring the data\n",
    "df2 = pd.DataFrame(df['channels'][0])\n",
    "df2 = df2[df2['status'] == 1]\n",
    "df2"
   ]
  },
  {
   "cell_type": "code",
   "execution_count": 4,
   "metadata": {},
   "outputs": [
    {
     "data": {
      "text/plain": [
       "23.2"
      ]
     },
     "execution_count": 4,
     "metadata": {},
     "output_type": "execute_result"
    }
   ],
   "source": [
    "# Get the temprature\n",
    "df_temp = df2[df2['name'] == 'TD'].reset_index(drop=True)\n",
    "df_temp['value'][0]\n"
   ]
  },
  {
   "cell_type": "code",
   "execution_count": 6,
   "metadata": {},
   "outputs": [
    {
     "data": {
      "text/plain": [
       "0"
      ]
     },
     "execution_count": 6,
     "metadata": {},
     "output_type": "execute_result"
    }
   ],
   "source": [
    "# Get the rain\n",
    "df_rain = df2[df2['name'] == 'Rain'].reset_index(drop=True)\n",
    "df_rain['value'][0]"
   ]
  },
  {
   "cell_type": "code",
   "execution_count": 25,
   "metadata": {},
   "outputs": [
    {
     "name": "stdout",
     "output_type": "stream",
     "text": [
      "{'stationId': 178, 'data': [{'datetime': '2024-03-12T15:00:00+02:00', 'channels': [{'id': 1, 'name': 'Rain', 'alias': None, 'value': 0.0, 'status': 1, 'valid': True, 'description': None}, {'id': 2, 'name': 'WSmax', 'alias': None, 'value': 2.5, 'status': 1, 'valid': True, 'description': None}, {'id': 3, 'name': 'WDmax', 'alias': None, 'value': 336.0, 'status': 1, 'valid': True, 'description': None}, {'id': 4, 'name': 'WS', 'alias': None, 'value': 1.8, 'status': 1, 'valid': True, 'description': None}, {'id': 5, 'name': 'WD', 'alias': None, 'value': 330.0, 'status': 1, 'valid': True, 'description': None}, {'id': 6, 'name': 'STDwd', 'alias': None, 'value': 9.4, 'status': 1, 'valid': True, 'description': None}, {'id': 7, 'name': 'TD', 'alias': None, 'value': 23.2, 'status': 1, 'valid': True, 'description': None}, {'id': 8, 'name': 'RH', 'alias': None, 'value': 66.0, 'status': 1, 'valid': True, 'description': None}, {'id': 9, 'name': 'TDmax', 'alias': None, 'value': 23.4, 'status': 1, 'valid': True, 'description': None}, {'id': 10, 'name': 'TDmin', 'alias': None, 'value': 23.0, 'status': 1, 'valid': True, 'description': None}, {'id': 11, 'name': 'WS1mm', 'alias': None, 'value': 2.2, 'status': 1, 'valid': True, 'description': None}, {'id': 12, 'name': 'Ws10mm', 'alias': None, 'value': 2.1, 'status': 2, 'valid': False, 'description': None}, {'id': 13, 'name': 'Time', 'alias': None, 'value': 1457.0, 'status': 2, 'valid': False, 'description': None}]}]}\n",
      "23.2\n",
      "0.0\n"
     ]
    }
   ],
   "source": [
    "print (data)\n",
    "print(data['data'][0]['channels'][6]['value'])\n",
    "print(data['data'][0]['channels'][0]['value'])"
   ]
  }
 ],
 "metadata": {
  "kernelspec": {
   "display_name": "Python 3",
   "language": "python",
   "name": "python3"
  },
  "language_info": {
   "codemirror_mode": {
    "name": "ipython",
    "version": 3
   },
   "file_extension": ".py",
   "mimetype": "text/x-python",
   "name": "python",
   "nbconvert_exporter": "python",
   "pygments_lexer": "ipython3",
   "version": "3.11.4"
  }
 },
 "nbformat": 4,
 "nbformat_minor": 2
}
